{
 "metadata": {
  "kernelspec": {
   "language": "python",
   "display_name": "Python 3",
   "name": "python3"
  },
  "language_info": {
   "name": "python",
   "version": "3.10.13",
   "mimetype": "text/x-python",
   "codemirror_mode": {
    "name": "ipython",
    "version": 3
   },
   "pygments_lexer": "ipython3",
   "nbconvert_exporter": "python",
   "file_extension": ".py"
  },
  "kaggle": {
   "accelerator": "none",
   "dataSources": [
    {
     "sourceId": 4191272,
     "sourceType": "datasetVersion",
     "datasetId": 2471641
    }
   ],
   "dockerImageVersionId": 30746,
   "isInternetEnabled": true,
   "language": "python",
   "sourceType": "notebook",
   "isGpuEnabled": false
  }
 },
 "nbformat_minor": 4,
 "nbformat": 4,
 "cells": [
  {
   "cell_type": "code",
   "source": [
    "# This Python 3 environment comes with many helpful analytics libraries installed\n",
    "# It is defined by the kaggle/python Docker image: https://github.com/kaggle/docker-python\n",
    "# For example, here's several helpful packages to load\n",
    "\n",
    "import numpy as np # linear algebra\n",
    "import pandas as pd # data processing, CSV file I/O (e.g. pd.read_csv)\n",
    "\n",
    "# Input data files are available in the read-only \"../input/\" directory\n",
    "# For example, running this (by clicking run or pressing Shift+Enter) will list all files under the input directory\n",
    "\n",
    "import os\n",
    "# for dirname, _, filenames in os.walk('/kaggle/input'):\n",
    "#     for filename in filenames:\n",
    "#         print(os.path.join(dirname, filename))\n",
    "\n",
    "# You can write up to 20GB to the current directory (/kaggle/working/) that gets preserved as output when you create a version using \"Save & Run All\" \n",
    "# You can also write temporary files to /kaggle/temp/, but they won't be saved outside of the current session"
   ],
   "metadata": {
    "_uuid": "8f2839f25d086af736a60e9eeb907d3b93b6e0e5",
    "_cell_guid": "b1076dfc-b9ad-4769-8c92-a6c4dae69d19",
    "execution": {
     "iopub.status.busy": "2024-08-22T13:48:36.320138Z",
     "iopub.execute_input": "2024-08-22T13:48:36.321333Z",
     "iopub.status.idle": "2024-08-22T13:48:36.328094Z",
     "shell.execute_reply.started": "2024-08-22T13:48:36.321285Z",
     "shell.execute_reply": "2024-08-22T13:48:36.326917Z"
    },
    "trusted": true
   },
   "execution_count": null,
   "outputs": []
  },
  {
   "cell_type": "code",
   "source": [
    "import IPython.display as display\n",
    "import pandas as pd\n",
    "import numpy as np\n",
    "from matplotlib import pyplot as plt\n",
    "import torch\n",
    "from torch.utils.data import DataLoader\n",
    "import torch.nn as nn\n",
    "import torchvision\n",
    "from torchvision import transforms\n",
    "from torchmetrics import Precision, Recall"
   ],
   "metadata": {
    "execution": {
     "iopub.status.busy": "2024-08-22T13:48:36.330533Z",
     "iopub.execute_input": "2024-08-22T13:48:36.331122Z",
     "iopub.status.idle": "2024-08-22T13:48:36.346567Z",
     "shell.execute_reply.started": "2024-08-22T13:48:36.331077Z",
     "shell.execute_reply": "2024-08-22T13:48:36.345313Z"
    },
    "trusted": true
   },
   "execution_count": null,
   "outputs": []
  },
  {
   "cell_type": "code",
   "source": [],
   "metadata": {
    "trusted": true
   },
   "execution_count": null,
   "outputs": []
  },
  {
   "cell_type": "code",
   "source": [
    "# train_files_healthy = \"Dataset/Train/Train/Healthy\"\n",
    "# train_files_powdery = \"Dataset/Train/Train/Powdery\"\n",
    "# train_files_rust = \"Dataset/Train/Train/Rust\"\n",
    "\n",
    "# test_files_healthy = \"Dataset/Test/Test/Healthy\"\n",
    "# test_files_powdery = \"Dataset/Test/Test/Powdery\"\n",
    "# test_files_rust = \"Dataset/Test/Test/Rust\"\n",
    "\n",
    "# valid_files_healthy = \"Dataset/Validation/Validation/Healthy\"\n",
    "# valid_files_powdery = \"Dataset/Validation/Validation/Powdery\"\n",
    "# valid_files_rust = \"Dataset/Validation/Validation/Rust\"\n",
    "\n",
    "train_folder_path = '/kaggle/input/plant-leaves-for-image-classification/Plants_2/train'\n",
    "valid_folder_path = '/kaggle/input/plant-leaves-for-image-classification/Plants_2/valid'\n",
    "test_folder_path = '/kaggle/input/plant-leaves-for-image-classification/Plants_2/test'"
   ],
   "metadata": {
    "execution": {
     "iopub.status.busy": "2024-08-22T13:48:36.348128Z",
     "iopub.execute_input": "2024-08-22T13:48:36.349059Z",
     "iopub.status.idle": "2024-08-22T13:48:36.357764Z",
     "shell.execute_reply.started": "2024-08-22T13:48:36.349022Z",
     "shell.execute_reply": "2024-08-22T13:48:36.356326Z"
    },
    "trusted": true
   },
   "execution_count": null,
   "outputs": []
  },
  {
   "cell_type": "code",
   "source": [
    "# for dirname, _, filenames in os.walk(train_folder_path):\n",
    "#     for filename in filenames:\n",
    "#         location = os.path.join(dirname, filename)\n",
    "#         with open(location, 'rb') as f:\n",
    "#             display.display(display.Image(data=f.read(), width=500))"
   ],
   "metadata": {
    "execution": {
     "iopub.status.busy": "2024-08-22T13:48:36.359566Z",
     "iopub.execute_input": "2024-08-22T13:48:36.359946Z",
     "iopub.status.idle": "2024-08-22T13:48:36.368805Z",
     "shell.execute_reply.started": "2024-08-22T13:48:36.359904Z",
     "shell.execute_reply": "2024-08-22T13:48:36.367538Z"
    },
    "trusted": true
   },
   "execution_count": null,
   "outputs": []
  },
  {
   "cell_type": "code",
   "source": [
    "# Define transforms\n",
    "train_transforms = transforms.Compose([\n",
    "    transforms.RandomHorizontalFlip(),\n",
    "    transforms.RandomRotation(45),\n",
    "    transforms.ToTensor(),\n",
    "    transforms.Resize((64,64)),\n",
    "])\n",
    "\n",
    "test_transforms = transforms.Compose([\n",
    "    transforms.ToTensor(),\n",
    "    transforms.Resize((64,64))\n",
    "])\n",
    "\n",
    "valid_transforms = transforms.Compose([\n",
    "    transforms.ToTensor(),\n",
    "    transforms.Resize((64,64))\n",
    "])"
   ],
   "metadata": {
    "execution": {
     "iopub.status.busy": "2024-08-22T13:48:36.372461Z",
     "iopub.execute_input": "2024-08-22T13:48:36.372858Z",
     "iopub.status.idle": "2024-08-22T13:48:36.384979Z",
     "shell.execute_reply.started": "2024-08-22T13:48:36.372814Z",
     "shell.execute_reply": "2024-08-22T13:48:36.383719Z"
    },
    "trusted": true
   },
   "execution_count": null,
   "outputs": []
  },
  {
   "cell_type": "code",
   "source": [
    "train_dataset = torchvision.datasets.ImageFolder(train_folder_path, transform=train_transforms)\n",
    "valid_dataset = torchvision.datasets.ImageFolder(valid_folder_path, transform=valid_transforms)\n",
    "test_dataset = torchvision.datasets.ImageFolder(test_folder_path, transform=test_transforms)"
   ],
   "metadata": {
    "execution": {
     "iopub.status.busy": "2024-08-22T13:48:36.386734Z",
     "iopub.execute_input": "2024-08-22T13:48:36.387411Z",
     "iopub.status.idle": "2024-08-22T13:48:36.527528Z",
     "shell.execute_reply.started": "2024-08-22T13:48:36.387372Z",
     "shell.execute_reply": "2024-08-22T13:48:36.526468Z"
    },
    "trusted": true
   },
   "execution_count": null,
   "outputs": []
  },
  {
   "cell_type": "code",
   "source": [
    "train_dataset"
   ],
   "metadata": {
    "execution": {
     "iopub.status.busy": "2024-08-22T13:48:36.528850Z",
     "iopub.execute_input": "2024-08-22T13:48:36.529171Z",
     "iopub.status.idle": "2024-08-22T13:48:36.536647Z",
     "shell.execute_reply.started": "2024-08-22T13:48:36.529142Z",
     "shell.execute_reply": "2024-08-22T13:48:36.535436Z"
    },
    "trusted": true
   },
   "execution_count": null,
   "outputs": []
  },
  {
   "cell_type": "code",
   "source": [
    "train_data_loader = DataLoader(train_dataset, batch_size=64, shuffle=True)\n",
    "valid_data_loader = DataLoader(valid_dataset, batch_size=64, shuffle=True)\n",
    "test_data_loader = DataLoader(test_dataset, batch_size=64, shuffle=True)"
   ],
   "metadata": {
    "execution": {
     "iopub.status.busy": "2024-08-22T13:48:36.538079Z",
     "iopub.execute_input": "2024-08-22T13:48:36.538509Z",
     "iopub.status.idle": "2024-08-22T13:48:36.547842Z",
     "shell.execute_reply.started": "2024-08-22T13:48:36.538475Z",
     "shell.execute_reply": "2024-08-22T13:48:36.546541Z"
    },
    "trusted": true
   },
   "execution_count": null,
   "outputs": []
  },
  {
   "cell_type": "code",
   "source": [
    "# train_features, train_labels = next(iter(train_data_loader))\n",
    "# print(train_features)\n",
    "# print(train_labels)"
   ],
   "metadata": {
    "execution": {
     "iopub.status.busy": "2024-08-22T13:48:36.549380Z",
     "iopub.execute_input": "2024-08-22T13:48:36.549761Z",
     "iopub.status.idle": "2024-08-22T13:48:36.562688Z",
     "shell.execute_reply.started": "2024-08-22T13:48:36.549720Z",
     "shell.execute_reply": "2024-08-22T13:48:36.561484Z"
    },
    "trusted": true
   },
   "execution_count": null,
   "outputs": []
  },
  {
   "cell_type": "code",
   "source": [
    "# output shape of conv2d = Width_out = ((Width_in - K + 2P)/S) + 1\n",
    "# (channels, w, h)\n",
    "\n",
    "# output shape of maxpool\n",
    "# (channels, w/kernal_size, h/kernal_size)"
   ],
   "metadata": {
    "execution": {
     "iopub.status.busy": "2024-08-22T13:48:36.564456Z",
     "iopub.execute_input": "2024-08-22T13:48:36.565011Z",
     "iopub.status.idle": "2024-08-22T13:48:36.576942Z",
     "shell.execute_reply.started": "2024-08-22T13:48:36.564966Z",
     "shell.execute_reply": "2024-08-22T13:48:36.575560Z"
    },
    "trusted": true
   },
   "execution_count": null,
   "outputs": []
  },
  {
   "cell_type": "code",
   "source": [
    "# create helper function to calculate conv2d shape at each step\n",
    "\n",
    "class Net(nn.Module):\n",
    "    def __init__(self, num_classes):\n",
    "        super().__init__()\n",
    "        self.feature_extractor = nn.Sequential(\n",
    "            # [(64-5+(2*1))/1]+1 = 62\n",
    "            nn.Conv2d(3, 32, kernel_size=5, padding=1), # (3,64,64) -> (32,62,62)\n",
    "            nn.ELU(),\n",
    "            # 62/2 = 31\n",
    "            nn.MaxPool2d(kernel_size=2), # (32,62,62) -> (32,31,31)\n",
    "            # [32-4+(2*1))/1]+1 = 30\n",
    "            nn.Conv2d(32, 64, kernel_size=4, padding=1), # (32,32,32) -> (64,29,29)\n",
    "            nn.ELU(),\n",
    "            nn.MaxPool2d(kernel_size=2), # (64,30,30) -> (64,15,15)\n",
    "            nn.Flatten(),\n",
    "        )\n",
    "        # Define classifier\n",
    "        self.classifier = nn.Linear(64*15*15, num_classes)\n",
    "    \n",
    "    def forward(self, x):  \n",
    "        x = self.feature_extractor(x)\n",
    "        x = self.classifier(x)\n",
    "        return x"
   ],
   "metadata": {
    "execution": {
     "iopub.status.busy": "2024-08-22T13:48:36.578188Z",
     "iopub.execute_input": "2024-08-22T13:48:36.578632Z",
     "iopub.status.idle": "2024-08-22T13:48:36.590385Z",
     "shell.execute_reply.started": "2024-08-22T13:48:36.578594Z",
     "shell.execute_reply": "2024-08-22T13:48:36.589206Z"
    },
    "trusted": true
   },
   "execution_count": null,
   "outputs": []
  },
  {
   "cell_type": "code",
   "source": [
    "net = Net(num_classes=22)\n",
    "\n",
    "loss = nn.CrossEntropyLoss()\n",
    "optimizer = torch.optim.Adam(net.parameters(), lr=.001)\n",
    "\n",
    "for epoch in range(2):\n",
    "    for images, labels in train_data_loader:\n",
    "        optimizer.zero_grad()\n",
    "        outputs = net(images)\n",
    "        loss_val = loss(outputs, labels)\n",
    "        loss_val.backward()\n",
    "        print('epoch:', epoch)\n",
    "        print('loss:', loss_val)\n",
    "        optimizer.step()"
   ],
   "metadata": {
    "execution": {
     "iopub.status.busy": "2024-08-22T13:48:36.591939Z",
     "iopub.execute_input": "2024-08-22T13:48:36.592372Z",
     "iopub.status.idle": "2024-08-22T13:49:54.459346Z",
     "shell.execute_reply.started": "2024-08-22T13:48:36.592335Z",
     "shell.execute_reply": "2024-08-22T13:49:54.456561Z"
    },
    "trusted": true
   },
   "execution_count": null,
   "outputs": []
  },
  {
   "cell_type": "code",
   "source": [
    "# valid evaluation\n",
    "precision = Precision(task='multiclass', num_classes=22, average='macro')\n",
    "recall = Recall(task='multiclass', num_classes=22, average='macro')\n",
    "\n",
    "net.eval()\n",
    "with torch.no_grad():\n",
    "    for images, labels in valid_data_loader:\n",
    "        outputs = net(images)\n",
    "        _, preds = torch.max(outputs, 1)\n",
    "        precision(preds, labels)\n",
    "        recall(preds, labels)\n",
    "        \n",
    "precision = precision.compute()\n",
    "recall = recall.compute()"
   ],
   "metadata": {
    "execution": {
     "iopub.status.busy": "2024-08-22T13:49:54.460743Z",
     "iopub.status.idle": "2024-08-22T13:49:54.461407Z",
     "shell.execute_reply.started": "2024-08-22T13:49:54.461071Z",
     "shell.execute_reply": "2024-08-22T13:49:54.461100Z"
    },
    "trusted": true
   },
   "execution_count": null,
   "outputs": []
  },
  {
   "cell_type": "code",
   "source": [
    "print(\"Precision:\", precision)\n",
    "print(\"Recall:\", recall)"
   ],
   "metadata": {
    "execution": {
     "iopub.status.busy": "2024-08-22T13:49:54.463773Z",
     "iopub.status.idle": "2024-08-22T13:49:54.464406Z",
     "shell.execute_reply.started": "2024-08-22T13:49:54.464083Z",
     "shell.execute_reply": "2024-08-22T13:49:54.464108Z"
    },
    "trusted": true
   },
   "execution_count": null,
   "outputs": []
  },
  {
   "cell_type": "code",
   "source": [
    "from torchmetrics import Accuracy\n",
    "\n",
    "accuracy = Accuracy(task=\"multiclass\", num_classes=22)\n",
    "\n",
    "net.eval()\n",
    "with torch.no_grad():\n",
    "    for images, labels in valid_data_loader:\n",
    "        outputs = net(images)\n",
    "        _, preds = torch.max(outputs, 1)\n",
    "        accuracy(preds, labels)\n",
    "        \n",
    "acc = accuracy.compute()\n",
    "\n",
    "print(acc)"
   ],
   "metadata": {
    "execution": {
     "iopub.status.busy": "2024-08-22T13:49:54.466371Z",
     "iopub.status.idle": "2024-08-22T13:49:54.467124Z",
     "shell.execute_reply.started": "2024-08-22T13:49:54.466806Z",
     "shell.execute_reply": "2024-08-22T13:49:54.466837Z"
    },
    "trusted": true
   },
   "execution_count": null,
   "outputs": []
  },
  {
   "cell_type": "code",
   "source": [
    "from torchmetrics.classification import MulticlassF1Score\n",
    "\n",
    "f1 = MulticlassF1Score(num_classes=22)\n",
    "\n",
    "net.eval()\n",
    "with torch.no_grad():\n",
    "    for images, labels in valid_data_loader:\n",
    "        outputs = net(images)\n",
    "        _, preds = torch.max(outputs, 1)\n",
    "        f1(preds, labels)\n",
    "        \n",
    "f1_score = f1.compute()\n",
    "\n",
    "print(f1_score)"
   ],
   "metadata": {
    "execution": {
     "iopub.status.busy": "2024-08-22T13:49:54.469009Z",
     "iopub.status.idle": "2024-08-22T13:49:54.469619Z",
     "shell.execute_reply.started": "2024-08-22T13:49:54.469309Z",
     "shell.execute_reply": "2024-08-22T13:49:54.469335Z"
    },
    "trusted": true
   },
   "execution_count": null,
   "outputs": []
  },
  {
   "cell_type": "code",
   "source": [
    "f1_manual = (2*precision*recall)/(recall+precision)\n",
    "f1_manual"
   ],
   "metadata": {
    "execution": {
     "iopub.status.busy": "2024-08-22T13:49:54.471750Z",
     "iopub.status.idle": "2024-08-22T13:49:54.472161Z",
     "shell.execute_reply.started": "2024-08-22T13:49:54.471971Z",
     "shell.execute_reply": "2024-08-22T13:49:54.471988Z"
    },
    "trusted": true
   },
   "execution_count": null,
   "outputs": []
  },
  {
   "cell_type": "code",
   "source": [
    "# do any tuning that makes sense"
   ],
   "metadata": {
    "execution": {
     "iopub.status.busy": "2024-08-22T13:49:54.474007Z",
     "iopub.status.idle": "2024-08-22T13:49:54.474497Z",
     "shell.execute_reply.started": "2024-08-22T13:49:54.474287Z",
     "shell.execute_reply": "2024-08-22T13:49:54.474307Z"
    },
    "trusted": true
   },
   "execution_count": null,
   "outputs": []
  },
  {
   "cell_type": "code",
   "source": [
    "# retrain "
   ],
   "metadata": {
    "execution": {
     "iopub.status.busy": "2024-08-22T13:49:54.476545Z",
     "iopub.status.idle": "2024-08-22T13:49:54.476937Z",
     "shell.execute_reply.started": "2024-08-22T13:49:54.476752Z",
     "shell.execute_reply": "2024-08-22T13:49:54.476769Z"
    },
    "trusted": true
   },
   "execution_count": null,
   "outputs": []
  },
  {
   "cell_type": "code",
   "source": [
    "# eval on test setfrom torchmetrics.classification import MulticlassF1Score\n",
    "\n",
    "f1 = MulticlassF1Score(num_classes=22)\n",
    "\n",
    "net.eval()\n",
    "with torch.no_grad():\n",
    "    for images, labels in test_data_loader:\n",
    "        outputs = net(images)\n",
    "        _, preds = torch.max(outputs, 1)\n",
    "        f1(preds, labels)\n",
    "        \n",
    "f1_score = f1.compute()\n",
    "\n",
    "print(f1_score)"
   ],
   "metadata": {
    "execution": {
     "iopub.status.busy": "2024-08-22T13:49:54.478648Z",
     "iopub.status.idle": "2024-08-22T13:49:54.479066Z",
     "shell.execute_reply.started": "2024-08-22T13:49:54.478871Z",
     "shell.execute_reply": "2024-08-22T13:49:54.478889Z"
    },
    "trusted": true
   },
   "execution_count": null,
   "outputs": []
  },
  {
   "cell_type": "code",
   "source": [],
   "metadata": {},
   "execution_count": null,
   "outputs": []
  }
 ]
}
